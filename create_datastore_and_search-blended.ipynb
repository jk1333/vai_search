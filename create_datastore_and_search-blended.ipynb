{
 "cells": [
  {
   "cell_type": "markdown",
   "metadata": {
    "id": "829cc6c6-f8c3-4fc6-942b-f698be5fa1a2"
   },
   "source": [
    "# Create a Vertex AI Datastore and Search Engine\n",
    "\n",
    "<table align=\"left\">\n",
    "\n",
    "  <td>\n",
    "    <a href=\"https://colab.research.google.com/github/GoogleCloudPlatform/generative-ai/blob/main/search/create_datastore_and_search.ipynb\">\n",
    "      <img src=\"https://cloud.google.com/ml-engine/images/colab-logo-32px.png\" alt=\"Colab logo\"> Run in Colab\n",
    "    </a>\n",
    "  </td>\n",
    "  <td>\n",
    "    <a href=\"https://github.com/GoogleCloudPlatform/generative-ai/blob/main/search/create_datastore_and_search.ipynb\">\n",
    "      <img src=\"https://cloud.google.com/ml-engine/images/github-logo-32px.png\" alt=\"GitHub logo\">\n",
    "      View on GitHub\n",
    "    </a>\n",
    "  </td>\n",
    "  <td>\n",
    "    <a href=\"https://console.cloud.google.com/vertex-ai/workbench/deploy-notebook?download_url=https://raw.githubusercontent.com/GoogleCloudPlatform/generative-ai/main/search/create_datastore_and_search.ipynb\">\n",
    "      <img src=\"https://lh3.googleusercontent.com/UiNooY4LUgW_oTvpsNhPpQzsstV5W8F7rYgxgGBD85cWJoLmrOzhVs_ksK_vgx40SHs7jCqkTkCk=e14-rj-sc0xffffff-h130-w32\" alt=\"Vertex AI logo\">\n",
    "      Open in Vertex AI Workbench\n",
    "    </a>\n",
    "  </td>\n",
    "</table>\n",
    "\n",
    "<div style=\"clear: both;\"></div>\n",
    "\n",
    "<b>Share to:</b>\n",
    "\n",
    "<a href=\"https://www.linkedin.com/sharing/share-offsite/?url=https%3A//github.com/GoogleCloudPlatform/generative-ai/blob/main/search/create_datastore_and_search.ipynb\" target=\"_blank\">\n",
    "  <img width=\"20px\" src=\"https://upload.wikimedia.org/wikipedia/commons/8/81/LinkedIn_icon.svg\" alt=\"LinkedIn logo\">\n",
    "</a>\n",
    "\n",
    "<a href=\"https://bsky.app/intent/compose?text=https%3A//github.com/GoogleCloudPlatform/generative-ai/blob/main/search/create_datastore_and_search.ipynb\" target=\"_blank\">\n",
    "  <img width=\"20px\" src=\"https://upload.wikimedia.org/wikipedia/commons/7/7a/Bluesky_Logo.svg\" alt=\"Bluesky logo\">\n",
    "</a>\n",
    "\n",
    "<a href=\"https://twitter.com/intent/tweet?url=https%3A//github.com/GoogleCloudPlatform/generative-ai/blob/main/search/create_datastore_and_search.ipynb\" target=\"_blank\">\n",
    "  <img width=\"20px\" src=\"https://upload.wikimedia.org/wikipedia/commons/5/53/X_logo_2023_original.svg\" alt=\"X logo\">\n",
    "</a>\n",
    "\n",
    "<a href=\"https://reddit.com/submit?url=https%3A//github.com/GoogleCloudPlatform/generative-ai/blob/main/search/create_datastore_and_search.ipynb\" target=\"_blank\">\n",
    "  <img width=\"20px\" src=\"https://redditinc.com/hubfs/Reddit%20Inc/Brand/Reddit_Logo.png\" alt=\"Reddit logo\">\n",
    "</a>\n",
    "\n",
    "<a href=\"https://www.facebook.com/sharer/sharer.php?u=https%3A//github.com/GoogleCloudPlatform/generative-ai/blob/main/search/create_datastore_and_search.ipynb\" target=\"_blank\">\n",
    "  <img width=\"20px\" src=\"https://upload.wikimedia.org/wikipedia/commons/5/51/Facebook_f_logo_%282019%29.svg\" alt=\"Facebook logo\">\n",
    "</a>            "
   ]
  },
  {
   "cell_type": "markdown",
   "metadata": {
    "id": "0460bdbe-05db-42f8-822c-82195de8329a"
   },
   "source": [
    "---\n",
    "\n",
    "* Author(s): [Kara Greenfield](https://github.com/kgreenfield2)\n",
    "* Created: 22 Nov 2023\n",
    "* Updated: 31 Oct 2024\n",
    "\n",
    "---\n",
    "\n",
    "## Objective\n",
    "\n",
    "This notebook shows how to create and populate a Vertex AI Search Datastore, how to create a search app connected to that datastore, and how to submit queries through the search engine.\n"
   ]
  },
  {
   "cell_type": "markdown",
   "metadata": {
    "id": "0b4b1050-7113-487e-aeaf-55690c831a1d"
   },
   "source": [
    "Services used in the notebook:\n",
    "\n",
    "- ✅ Vertex AI Search for document search and retrieval"
   ]
  },
  {
   "cell_type": "markdown",
   "metadata": {
    "id": "43828625-a130-449c-ba5f-6a948220f559"
   },
   "source": [
    "## Install pre-requisites\n",
    "\n",
    "If running in Colab install the pre-requisites into the runtime. Otherwise it is assumed that the notebook is running in Vertex AI Workbench."
   ]
  },
  {
   "cell_type": "code",
   "execution_count": null,
   "metadata": {
    "id": "8ea5db8a-dccc-4442-b5d7-7088d5ffb5ac"
   },
   "outputs": [],
   "source": [
    "%pip install --upgrade --user -q google-cloud-discoveryengine"
   ]
  },
  {
   "cell_type": "markdown",
   "metadata": {
    "id": "10f9e321"
   },
   "source": [
    "### Restart current runtime\n",
    "\n",
    "To use the newly installed packages in this Jupyter runtime, you must restart the runtime. You can do this by running the cell below, which will restart the current kernel."
   ]
  },
  {
   "cell_type": "code",
   "execution_count": null,
   "metadata": {
    "id": "da755736"
   },
   "outputs": [],
   "source": [
    "# Restart kernel after installs so that your environment can access the new packages\n",
    "\n",
    "import IPython\n",
    "\n",
    "app = IPython.Application.instance()\n",
    "app.kernel.do_shutdown(True)"
   ]
  },
  {
   "cell_type": "markdown",
   "metadata": {
    "id": "9c31dbe0"
   },
   "source": [
    "<div class=\"alert alert-block alert-warning\">\n",
    "<b>⚠️ The kernel is going to restart. Please wait until it is finished before continuing to the next step. ⚠️</b>\n",
    "</div>\n"
   ]
  },
  {
   "cell_type": "markdown",
   "metadata": {
    "id": "5f6a5de5-156e-4f14-99e6-3ab33e076c81"
   },
   "source": [
    "## Authenticate\n",
    "\n",
    "If running in Colab authenticate with `google.colab.google.auth` otherwise assume that running on Vertex AI Workbench."
   ]
  },
  {
   "cell_type": "code",
   "execution_count": null,
   "metadata": {
    "id": "df3b7309-c51c-44a0-a466-b0b2733e0c28"
   },
   "outputs": [],
   "source": [
    "import sys\n",
    "\n",
    "if \"google.colab\" in sys.modules:\n",
    "    from google.colab import auth\n",
    "\n",
    "    auth.authenticate_user()"
   ]
  },
  {
   "cell_type": "markdown",
   "metadata": {
    "id": "ae7a4925-145a-40f3-9fa1-3b69a42d488d"
   },
   "source": [
    "## Configure notebook environment"
   ]
  },
  {
   "cell_type": "code",
   "execution_count": 1,
   "metadata": {
    "id": "389b9e51-1ce4-4bdf-80b5-fcdc1882f853",
    "tags": []
   },
   "outputs": [],
   "source": [
    "from google.api_core.client_options import ClientOptions\n",
    "from google.cloud import discoveryengine\n",
    "import pandas as pd\n",
    "\n",
    "PROJECT_ID = \"sandbox-373102\"  # @param {type:\"string\"}\n",
    "LOCATION = \"global\"\n",
    "BQ_DATASET = \"documents\"\n",
    "BQ_TABLE_1 = \"sandbox-373102-first\"\n",
    "BQ_TABLE_2 = \"sandbox-373102-second\"\n",
    "\n",
    "EXPORT_BUCKET = 'jk-bq-export'"
   ]
  },
  {
   "cell_type": "markdown",
   "metadata": {
    "id": "HjoerqoksBdx"
   },
   "source": [
    "Set [Application Default Credentials](https://cloud.google.com/docs/authentication/application-default-credentials)"
   ]
  },
  {
   "cell_type": "code",
   "execution_count": null,
   "metadata": {
    "id": "s-jH2yG1rtxn"
   },
   "outputs": [],
   "source": [
    "!gcloud auth application-default login --project {PROJECT_ID}"
   ]
  },
  {
   "cell_type": "code",
   "execution_count": 2,
   "metadata": {
    "tags": []
   },
   "outputs": [],
   "source": [
    "from google.cloud import bigquery\n",
    "\n",
    "def export_table_to_jsonl(bucket_name, dataset_name, table_name):\n",
    "    client = bigquery.Client()\n",
    "    destination_uri = \"gs://{}/{}\".format(bucket_name, f\"{table_name}.jsonl\")\n",
    "    dataset_ref = bigquery.DatasetReference(PROJECT_ID, dataset_name)\n",
    "    table_ref = dataset_ref.table(table_name)\n",
    "    job_config = bigquery.job.ExtractJobConfig()\n",
    "    job_config.destination_format = bigquery.DestinationFormat.NEWLINE_DELIMITED_JSON\n",
    "\n",
    "    extract_job = client.extract_table(\n",
    "        table_ref,\n",
    "        destination_uri,\n",
    "        job_config=job_config,\n",
    "        # Location must match that of the source table.\n",
    "        location=\"US\",\n",
    "    )  # API request\n",
    "    return extract_job.result()  # Waits for job to complete."
   ]
  },
  {
   "cell_type": "code",
   "execution_count": 3,
   "metadata": {
    "tags": []
   },
   "outputs": [
    {
     "data": {
      "text/html": [
       "<div>\n",
       "<style scoped>\n",
       "    .dataframe tbody tr th:only-of-type {\n",
       "        vertical-align: middle;\n",
       "    }\n",
       "\n",
       "    .dataframe tbody tr th {\n",
       "        vertical-align: top;\n",
       "    }\n",
       "\n",
       "    .dataframe thead th {\n",
       "        text-align: right;\n",
       "    }\n",
       "</style>\n",
       "<table border=\"1\" class=\"dataframe\">\n",
       "  <thead>\n",
       "    <tr style=\"text-align: right;\">\n",
       "      <th></th>\n",
       "      <th>id</th>\n",
       "      <th>structData</th>\n",
       "      <th>content</th>\n",
       "    </tr>\n",
       "  </thead>\n",
       "  <tbody>\n",
       "    <tr>\n",
       "      <th>0</th>\n",
       "      <td>f45bbdb8-a828-404c-989b-c89d48fb292a</td>\n",
       "      <td>{'category': ['2020년'], 'title': '2020년 국민연금기금...</td>\n",
       "      <td>{'mimeType': 'application/pdf', 'uri': 'gs://j...</td>\n",
       "    </tr>\n",
       "    <tr>\n",
       "      <th>1</th>\n",
       "      <td>faf429fe-b5dc-43ac-9796-6dc9b178b062</td>\n",
       "      <td>{'category': ['2019년'], 'title': '2019년 국민연금기금...</td>\n",
       "      <td>{'mimeType': 'application/pdf', 'uri': 'gs://j...</td>\n",
       "    </tr>\n",
       "  </tbody>\n",
       "</table>\n",
       "</div>"
      ],
      "text/plain": [
       "                                     id  \\\n",
       "0  f45bbdb8-a828-404c-989b-c89d48fb292a   \n",
       "1  faf429fe-b5dc-43ac-9796-6dc9b178b062   \n",
       "\n",
       "                                          structData  \\\n",
       "0  {'category': ['2020년'], 'title': '2020년 국민연금기금...   \n",
       "1  {'category': ['2019년'], 'title': '2019년 국민연금기금...   \n",
       "\n",
       "                                             content  \n",
       "0  {'mimeType': 'application/pdf', 'uri': 'gs://j...  \n",
       "1  {'mimeType': 'application/pdf', 'uri': 'gs://j...  "
      ]
     },
     "execution_count": 3,
     "metadata": {},
     "output_type": "execute_result"
    }
   ],
   "source": [
    "export_table_to_jsonl(EXPORT_BUCKET, BQ_DATASET, BQ_TABLE_1)\n",
    "pd.read_json(f'gs://{EXPORT_BUCKET}/{BQ_TABLE_1}.jsonl', lines=True)"
   ]
  },
  {
   "cell_type": "code",
   "execution_count": 4,
   "metadata": {
    "tags": []
   },
   "outputs": [
    {
     "data": {
      "text/html": [
       "<div>\n",
       "<style scoped>\n",
       "    .dataframe tbody tr th:only-of-type {\n",
       "        vertical-align: middle;\n",
       "    }\n",
       "\n",
       "    .dataframe tbody tr th {\n",
       "        vertical-align: top;\n",
       "    }\n",
       "\n",
       "    .dataframe thead th {\n",
       "        text-align: right;\n",
       "    }\n",
       "</style>\n",
       "<table border=\"1\" class=\"dataframe\">\n",
       "  <thead>\n",
       "    <tr style=\"text-align: right;\">\n",
       "      <th></th>\n",
       "      <th>id</th>\n",
       "      <th>structData</th>\n",
       "      <th>content</th>\n",
       "    </tr>\n",
       "  </thead>\n",
       "  <tbody>\n",
       "    <tr>\n",
       "      <th>0</th>\n",
       "      <td>382177ed-4418-40f3-86c5-9a4200bf12a4</td>\n",
       "      <td>{'category': ['2021년'], 'title': '2021년 국민연금기금...</td>\n",
       "      <td>{'mimeType': 'application/pdf', 'uri': 'gs://j...</td>\n",
       "    </tr>\n",
       "  </tbody>\n",
       "</table>\n",
       "</div>"
      ],
      "text/plain": [
       "                                     id  \\\n",
       "0  382177ed-4418-40f3-86c5-9a4200bf12a4   \n",
       "\n",
       "                                          structData  \\\n",
       "0  {'category': ['2021년'], 'title': '2021년 국민연금기금...   \n",
       "\n",
       "                                             content  \n",
       "0  {'mimeType': 'application/pdf', 'uri': 'gs://j...  "
      ]
     },
     "execution_count": 4,
     "metadata": {},
     "output_type": "execute_result"
    }
   ],
   "source": [
    "export_table_to_jsonl(EXPORT_BUCKET, BQ_DATASET, BQ_TABLE_2)\n",
    "pd.read_json(f'gs://{EXPORT_BUCKET}/{BQ_TABLE_2}.jsonl', lines=True)"
   ]
  },
  {
   "cell_type": "markdown",
   "metadata": {
    "id": "07f1aecd-4633-4451-b5a7-1f26e4cb2631"
   },
   "source": [
    "## Create and Populate a Datastore"
   ]
  },
  {
   "cell_type": "code",
   "execution_count": 5,
   "metadata": {
    "id": "9a1d0021-e299-49d4-a657-2e101ae49eb6",
    "tags": []
   },
   "outputs": [],
   "source": [
    "def create_data_store(\n",
    "    project_id: str, location: str, data_store_name: str, data_store_id: str\n",
    "):\n",
    "    # Create a client\n",
    "    client_options = (\n",
    "        ClientOptions(api_endpoint=f\"{location}-discoveryengine.googleapis.com\")\n",
    "        if location != \"global\"\n",
    "        else None\n",
    "    )\n",
    "    client = discoveryengine.DataStoreServiceClient(client_options=client_options)\n",
    "\n",
    "    # Initialize request argument(s)\n",
    "    data_store = discoveryengine.DataStore(\n",
    "        display_name=data_store_name,\n",
    "        industry_vertical=discoveryengine.IndustryVertical.GENERIC,\n",
    "        content_config=discoveryengine.DataStore.ContentConfig.CONTENT_REQUIRED,\n",
    "    )\n",
    "\n",
    "    operation = client.create_data_store(\n",
    "        request=discoveryengine.CreateDataStoreRequest(\n",
    "            parent=client.collection_path(project_id, location, \"default_collection\"),\n",
    "            data_store=data_store,\n",
    "            data_store_id=data_store_id,\n",
    "        )\n",
    "    )\n",
    "\n",
    "    # Make the request\n",
    "    # The try block is necessary to prevent execution from halting due to an error being thrown when the datastore takes a while to instantiate\n",
    "    try:\n",
    "        response = operation.result(timeout=90)\n",
    "    except:\n",
    "        print(\"long-running operation error.\")"
   ]
  },
  {
   "cell_type": "code",
   "execution_count": 6,
   "metadata": {
    "id": "8a4db726-8da1-4c76-8934-944aaf5f9b53",
    "tags": []
   },
   "outputs": [],
   "source": [
    "# The datastore name can only contain lowercase letters, numbers, and hyphens\n",
    "DATASTORE_NAME = \"pension_report_first\"\n",
    "DATASTORE_ID_FIRST = f\"{DATASTORE_NAME}-id\"\n",
    "\n",
    "#Need to create at least two data store for blended search\n",
    "create_data_store(PROJECT_ID, LOCATION, DATASTORE_NAME, DATASTORE_ID_FIRST)"
   ]
  },
  {
   "cell_type": "code",
   "execution_count": 7,
   "metadata": {
    "tags": []
   },
   "outputs": [],
   "source": [
    "# The datastore name can only contain lowercase letters, numbers, and hyphens\n",
    "DATASTORE_NAME = \"pension_report_second\"\n",
    "DATASTORE_ID_SECOND = f\"{DATASTORE_NAME}-id\"\n",
    "\n",
    "#Need to create at least two data store for blended search\n",
    "create_data_store(PROJECT_ID, LOCATION, DATASTORE_NAME, DATASTORE_ID_SECOND)"
   ]
  },
  {
   "cell_type": "code",
   "execution_count": 16,
   "metadata": {
    "id": "03121270-5d2f-403b-81ea-c1d241357bd1"
   },
   "outputs": [],
   "source": [
    "def import_documents(\n",
    "    project_id: str,\n",
    "    location: str,\n",
    "    data_store_id: str,\n",
    "    source_documents: str,\n",
    "):\n",
    "    # Create a client\n",
    "    client_options = (\n",
    "        ClientOptions(api_endpoint=f\"{location}-discoveryengine.googleapis.com\")\n",
    "        if location != \"global\"\n",
    "        else None\n",
    "    )\n",
    "    client = discoveryengine.DocumentServiceClient(client_options=client_options)\n",
    "\n",
    "    # The full resource name of the search engine branch.\n",
    "    # e.g. projects/{project}/locations/{location}/dataStores/{data_store_id}/branches/{branch}\n",
    "    parent = client.branch_path(\n",
    "        project=project_id,\n",
    "        location=location,\n",
    "        data_store=data_store_id,\n",
    "        branch=\"default_branch\",\n",
    "    )\n",
    "\n",
    "    request = discoveryengine.ImportDocumentsRequest(\n",
    "        parent=parent,\n",
    "        gcs_source=discoveryengine.GcsSource(\n",
    "            input_uris=source_documents,\n",
    "            data_schema=\"document\",\n",
    "        ),\n",
    "        # Options: `FULL`, `INCREMENTAL`\n",
    "        reconciliation_mode=discoveryengine.ImportDocumentsRequest.ReconciliationMode.FULL,\n",
    "    )\n",
    "\n",
    "    # Make the request\n",
    "    operation = client.import_documents(request=request)\n",
    "\n",
    "    response = operation.result()\n",
    "\n",
    "    # Once the operation is complete,\n",
    "    # get information from operation metadata\n",
    "    metadata = discoveryengine.ImportDocumentsMetadata(operation.metadata)\n",
    "\n",
    "    # Handle the response\n",
    "    return operation.operation.name"
   ]
  },
  {
   "cell_type": "markdown",
   "metadata": {
    "id": "7a957202-b67e-47ca-84c3-b8a62cfbe405"
   },
   "source": [
    "## Create a Search Engine\n",
    "\n",
    "This is used to set the `search_tier` to enterprise and to enable advanced LLM features.\n",
    "\n",
    "Enterprise tier is required to get extractive answers from a search query and advanced LLM features are required to summarize search results."
   ]
  },
  {
   "cell_type": "code",
   "execution_count": 11,
   "metadata": {
    "id": "0e39e9bb-f381-44f6-a45e-3322669a171f"
   },
   "outputs": [],
   "source": [
    "def create_engine(\n",
    "    project_id: str, location: str, engine_id: str, app_name: str, data_store_ids\n",
    "):\n",
    "    # Create a client\n",
    "    client_options = (\n",
    "        ClientOptions(api_endpoint=f\"{location}-discoveryengine.googleapis.com\")\n",
    "        if location != \"global\"\n",
    "        else None\n",
    "    )\n",
    "    client = discoveryengine.EngineServiceClient(client_options=client_options)\n",
    "\n",
    "    # Initialize request argument(s)\n",
    "    engine = discoveryengine.Engine(\n",
    "        display_name=app_name,\n",
    "        solution_type=discoveryengine.SolutionType.SOLUTION_TYPE_SEARCH,\n",
    "        industry_vertical=discoveryengine.IndustryVertical.GENERIC,\n",
    "        data_store_ids=data_store_ids,\n",
    "        search_engine_config=discoveryengine.Engine.SearchEngineConfig(\n",
    "            search_tier=discoveryengine.SearchTier.SEARCH_TIER_ENTERPRISE,\n",
    "            search_add_ons=[discoveryengine.SearchAddOn.SEARCH_ADD_ON_LLM],\n",
    "        ),\n",
    "    )\n",
    "\n",
    "    request = discoveryengine.CreateEngineRequest(\n",
    "        parent=client.collection_path(project_id, location, \"default_collection\"),\n",
    "        engine=engine,\n",
    "        engine_id=engine_id,\n",
    "    )\n",
    "\n",
    "    # Make the request\n",
    "    operation = client.create_engine(request=request)\n",
    "    response = operation.result(timeout=90)"
   ]
  },
  {
   "cell_type": "code",
   "execution_count": 12,
   "metadata": {
    "id": "4a853982-8c2e-402a-a808-5364bf932619"
   },
   "outputs": [],
   "source": [
    "#Creating engine usually take more than 5 minutes\n",
    "import uuid\n",
    "ENGINE_ID = str(uuid.uuid4())\n",
    "create_engine(PROJECT_ID, LOCATION, ENGINE_ID, \"Blended research\", [DATASTORE_ID_FIRST, DATASTORE_ID_SECOND])"
   ]
  },
  {
   "cell_type": "code",
   "execution_count": 18,
   "metadata": {
    "id": "1ddfe66a-acb4-4fdb-b9ed-76a332bb0f0c"
   },
   "outputs": [
    {
     "name": "stdout",
     "output_type": "stream",
     "text": [
      "['gs://jk-bq-export/sandbox-373102-first.jsonl']\n"
     ]
    },
    {
     "data": {
      "text/plain": [
       "'projects/1045259343465/locations/global/collections/default_collection/dataStores/pension_report_first-id/branches/0/operations/import-documents-7640641966568060229'"
      ]
     },
     "execution_count": 18,
     "metadata": {},
     "output_type": "execute_result"
    }
   ],
   "source": [
    "#Empty bq table took around 10 minutes\n",
    "import_documents(PROJECT_ID, LOCATION, DATASTORE_ID_FIRST, [f'gs://{EXPORT_BUCKET}/{BQ_TABLE_1}.jsonl'])"
   ]
  },
  {
   "cell_type": "code",
   "execution_count": 20,
   "metadata": {
    "tags": []
   },
   "outputs": [
    {
     "name": "stdout",
     "output_type": "stream",
     "text": [
      "['gs://jk-bq-export/sandbox-373102-second.jsonl']\n"
     ]
    },
    {
     "data": {
      "text/plain": [
       "'projects/1045259343465/locations/global/collections/default_collection/dataStores/pension_report_second-id/branches/0/operations/import-documents-12276097102817183724'"
      ]
     },
     "execution_count": 20,
     "metadata": {},
     "output_type": "execute_result"
    }
   ],
   "source": [
    "#Empty bq table took around 10 minutes\n",
    "import_documents(PROJECT_ID, LOCATION, DATASTORE_ID, [f'gs://{EXPORT_BUCKET}/{BQ_TABLE_2}.jsonl'])"
   ]
  },
  {
   "cell_type": "markdown",
   "metadata": {
    "id": "e9f4d978-9164-4de3-b01a-179051706313"
   },
   "source": [
    "## Query your Search Engine\n",
    "\n",
    "Note: The Engine will take some time to be ready to query.\n",
    "\n",
    "If you recently created an engine and you receive an error similar to:\n",
    "\n",
    "`404 Engine {ENGINE_ID} is not found`\n",
    "\n",
    "Then wait a few minutes and try your query again."
   ]
  },
  {
   "cell_type": "code",
   "execution_count": 23,
   "metadata": {
    "id": "1c4dfb62-7846-43d0-9cba-fd8886ce5546"
   },
   "outputs": [],
   "source": [
    "def search_sample(\n",
    "    project_id: str,\n",
    "    location: str,\n",
    "    engine_id: str,\n",
    "    search_query: str,\n",
    ") -> list[discoveryengine.SearchResponse]:\n",
    "    #  For more information, refer to:\n",
    "    # https://cloud.google.com/generative-ai-app-builder/docs/locations#specify_a_multi-region_for_your_data_store\n",
    "    client_options = (\n",
    "        ClientOptions(api_endpoint=f\"{location}-discoveryengine.googleapis.com\")\n",
    "        if LOCATION != \"global\"\n",
    "        else None\n",
    "    )\n",
    "\n",
    "    # Create a client\n",
    "    client = discoveryengine.SearchServiceClient(client_options=client_options)\n",
    "\n",
    "    # The full resource name of the search engine serving config\n",
    "    # e.g. projects/{project_id}/locations/{location}/dataStores/{data_store_id}/servingConfigs/{serving_config_id}\n",
    "    serving_config = f\"projects/{project_id}/locations/{location}/collections/default_collection/engines/{engine_id}/servingConfigs/default_search\"\n",
    "\n",
    "    # Optional: Configuration options for search\n",
    "    # Refer to the `ContentSearchSpec` reference for all supported fields:\n",
    "    # https://cloud.google.com/python/docs/reference/discoveryengine/latest/google.cloud.discoveryengine_v1.types.SearchRequest.ContentSearchSpec\n",
    "    content_search_spec = discoveryengine.SearchRequest.ContentSearchSpec(\n",
    "        # For information about snippets, refer to:\n",
    "        # https://cloud.google.com/generative-ai-app-builder/docs/snippets\n",
    "        snippet_spec=discoveryengine.SearchRequest.ContentSearchSpec.SnippetSpec(\n",
    "            return_snippet=True\n",
    "        ),\n",
    "        # For information about search summaries, refer to:\n",
    "        # https://cloud.google.com/generative-ai-app-builder/docs/get-search-summaries\n",
    "        summary_spec=discoveryengine.SearchRequest.ContentSearchSpec.SummarySpec(\n",
    "            summary_result_count=5,\n",
    "            include_citations=True,\n",
    "            ignore_adversarial_query=True,\n",
    "            ignore_non_summary_seeking_query=True,\n",
    "        ),\n",
    "    )\n",
    "\n",
    "    # Refer to the `SearchRequest` reference for all supported fields:\n",
    "    # https://cloud.google.com/python/docs/reference/discoveryengine/latest/google.cloud.discoveryengine_v1.types.SearchRequest\n",
    "    request = discoveryengine.SearchRequest(\n",
    "        serving_config=serving_config,\n",
    "        query=search_query,\n",
    "        page_size=10,\n",
    "        content_search_spec=content_search_spec,\n",
    "        #query_expansion_spec=discoveryengine.SearchRequest.QueryExpansionSpec(\n",
    "        #    condition=discoveryengine.SearchRequest.QueryExpansionSpec.Condition.AUTO,\n",
    "        #),\n",
    "        spell_correction_spec=discoveryengine.SearchRequest.SpellCorrectionSpec(\n",
    "            mode=discoveryengine.SearchRequest.SpellCorrectionSpec.Mode.AUTO\n",
    "        ),\n",
    "    )\n",
    "\n",
    "    response = client.search(request)\n",
    "    return response"
   ]
  },
  {
   "cell_type": "code",
   "execution_count": 24,
   "metadata": {
    "id": "ad41e18b-38d2-4f4c-98ae-df14eda900ae"
   },
   "outputs": [
    {
     "name": "stdout",
     "output_type": "stream",
     "text": [
      "국민연금은 1988년 제도 시행 이후 33년간 가입자 2,211만 명, 수급자 559만 명, 기금적립금 834조 원의 규모로 성장했다. [1] 2020년 말 국민연금기금 적립금은 833조 7천억 원이며, 이중 대부분은 주식, 채권, 대체투자 등 금융자산에 투자된다. [1]\n",
      "\n",
      "다음은 국민연금의 연도별 수익률 정보이다:\n",
      "\n",
      "*   **2019년:**\n",
      "    *   기금 전체 수익률은 11.31%이다. [3]\n",
      "    *   금융부문 연간 수익률은 9.72%이며, 수익금은 72조 1천억 원이다. [1]\n",
      "    *   국내 주식 시간가중수익률은 12.46%이다. [3]\n",
      "    *   기금 설치 이후 2019년 말까지 연평균 누적 수익률은 5.86%이며, 누적 수익금은 총 367조 5천억 원이다. [3]\n",
      "*   **2020년:**\n",
      "    *   기금 전체 운용수익률은 9.70%이며, 수익금은 72조 1천억 원이다. [1]\n",
      "    *   기금 설치 이후 연평균 누적수익률은 6.27%이며, 누적수익금은 439조 6천억 원이다. [1]\n",
      "    *   금융부문 연간 수익률은 9.72%이며, 수익금은 72조 1천억 원이다. [1]\n",
      "    *   금융 부문 시간가중수익률은 9.58%이다. [1]\n",
      "    *   국내주식 수익률은 34.66%이다. [1]\n",
      "    *   해외주식 수익률은 10.22%이다. [1]\n",
      "*   **2021년:**\n",
      "    *   연간 운용수익률은 10.77%이며, 수익금은 91조 2천억 원이다. [2]\n",
      "    *   기금 설치 이후 2021년 말까지 연평균 누적수익률은 6.76%이며, 누적 수익금은 530조 8천억 원이다. [2]\n",
      "    *   금융부문 시간가중수익률은 10.86%이다. [2]\n",
      "    *   해외주식 수익률은 29.77%이다. [2]\n",
      "\n",
      "2019년에 국내 주식에 투자하는 업종 중 제조업 투자 비중이 64.9%로 과반을 차지했다. [3] 2020년에는 국내채권 비중이 39.1%로 축소되었고, 해외투자 비중은 36.5%까지 확대되었다. [1] 2021년에는 채권부문이 COVID-19 변이바이러스와 인플레이션 우려로 부정적인 영향을 받았으나, 대체투자 부문은 높은 수익률을 나타냈다. [2]\n",
      "\n"
     ]
    }
   ],
   "source": [
    "query = \"국민연금 연도별 수익률\"\n",
    "\n",
    "response = search_sample(PROJECT_ID, LOCATION, ENGINE_ID, query)\n",
    "print(response.summary.summary_text)"
   ]
  }
 ],
 "metadata": {
  "colab": {
   "name": "create_datastore_and_search.ipynb",
   "toc_visible": true
  },
  "environment": {
   "kernel": "python3",
   "name": "common-cpu.m119",
   "type": "gcloud",
   "uri": "us-docker.pkg.dev/deeplearning-platform-release/gcr.io/base-cpu:m119"
  },
  "kernelspec": {
   "display_name": "Python 3",
   "language": "python",
   "name": "python3"
  },
  "language_info": {
   "codemirror_mode": {
    "name": "ipython",
    "version": 3
   },
   "file_extension": ".py",
   "mimetype": "text/x-python",
   "name": "python",
   "nbconvert_exporter": "python",
   "pygments_lexer": "ipython3",
   "version": "3.10.14"
  }
 },
 "nbformat": 4,
 "nbformat_minor": 4
}
